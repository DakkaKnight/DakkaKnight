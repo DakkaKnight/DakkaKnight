{
  "nbformat": 4,
  "nbformat_minor": 0,
  "metadata": {
    "colab": {
      "provenance": [],
      "authorship_tag": "ABX9TyN7VNI3agzkdcYmD0RVEDxM",
      "include_colab_link": true
    },
    "kernelspec": {
      "name": "python3",
      "display_name": "Python 3"
    },
    "language_info": {
      "name": "python"
    }
  },
  "cells": [
    {
      "cell_type": "markdown",
      "metadata": {
        "id": "view-in-github",
        "colab_type": "text"
      },
      "source": [
        "<a href=\"https://colab.research.google.com/github/DakkaKnight/DakkaKnight/blob/master/FirstProject.ipynb\" target=\"_parent\"><img src=\"https://colab.research.google.com/assets/colab-badge.svg\" alt=\"Open In Colab\"/></a>"
      ]
    },
    {
      "cell_type": "code",
      "execution_count": null,
      "metadata": {
        "colab": {
          "base_uri": "https://localhost:8080/"
        },
        "id": "fXNwFr9P-toK",
        "outputId": "1e7b8191-ebde-4f63-cc62-236e888e9051"
      },
      "outputs": [
        {
          "name": "stdout",
          "output_type": "stream",
          "text": [
            "Digite el limite de la secuencia: 8\n"
          ]
        }
      ],
      "source": [
        "fibo = []\n",
        "a = 1\n",
        "b = 1\n",
        "c = 0\n",
        "fibo.append(a)\n",
        "fibo.append(b)\n",
        "limite =  int(input(\"Digite el limite de la secuencia: \"))\n"
      ]
    },
    {
      "cell_type": "code",
      "source": [
        "for i in range (2, limite):\n",
        "  c = a + b\n",
        "  a = b\n",
        "  b = c\n",
        "  fibo.append(c)"
      ],
      "metadata": {
        "id": "F3qWxPgJAjUK"
      },
      "execution_count": null,
      "outputs": []
    },
    {
      "cell_type": "code",
      "source": [
        "for i in fibo:\n",
        "  print(i)"
      ],
      "metadata": {
        "colab": {
          "base_uri": "https://localhost:8080/"
        },
        "id": "OjIZMAWKAl5X",
        "outputId": "4a9f8d4b-a3f9-497c-bc4a-723164ced5d4"
      },
      "execution_count": null,
      "outputs": [
        {
          "output_type": "stream",
          "name": "stdout",
          "text": [
            "1\n",
            "1\n",
            "2\n",
            "3\n",
            "5\n",
            "8\n",
            "13\n",
            "21\n"
          ]
        }
      ]
    }
  ]
}